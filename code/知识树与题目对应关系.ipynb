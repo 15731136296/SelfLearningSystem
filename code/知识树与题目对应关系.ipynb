{
 "cells": [
  {
   "cell_type": "code",
   "execution_count": 1,
   "metadata": {},
   "outputs": [],
   "source": [
    "import pandas as pd"
   ]
  },
  {
   "cell_type": "code",
   "execution_count": 2,
   "metadata": {},
   "outputs": [],
   "source": [
    "path1 = \"../test_library_info/math_department1_test_knowledge_trees.csv\"\n",
    "df_knowledge_trees = pd.read_csv(path1)"
   ]
  },
  {
   "cell_type": "code",
   "execution_count": 3,
   "metadata": {},
   "outputs": [
    {
     "name": "stderr",
     "output_type": "stream",
     "text": [
      "/Users/mayanli/opt/anaconda3/lib/python3.7/site-packages/IPython/core/interactiveshell.py:3058: DtypeWarning: Columns (21,32,38,40,44,50,54) have mixed types. Specify dtype option on import or set low_memory=False.\n",
      "  interactivity=interactivity, compiler=compiler, result=result)\n"
     ]
    }
   ],
   "source": [
    "path2 = \"../test_library_info/test_info.csv\"\n",
    "df_test_info = pd.read_csv(path2)"
   ]
  },
  {
   "cell_type": "code",
   "execution_count": 4,
   "metadata": {},
   "outputs": [
    {
     "data": {
      "text/html": [
       "<div>\n",
       "<style scoped>\n",
       "    .dataframe tbody tr th:only-of-type {\n",
       "        vertical-align: middle;\n",
       "    }\n",
       "\n",
       "    .dataframe tbody tr th {\n",
       "        vertical-align: top;\n",
       "    }\n",
       "\n",
       "    .dataframe thead th {\n",
       "        text-align: right;\n",
       "    }\n",
       "</style>\n",
       "<table border=\"1\" class=\"dataframe\">\n",
       "  <thead>\n",
       "    <tr style=\"text-align: right;\">\n",
       "      <th></th>\n",
       "      <th>id</th>\n",
       "      <th>name</th>\n",
       "      <th>alias_name</th>\n",
       "      <th>description</th>\n",
       "      <th>department</th>\n",
       "      <th>subject_id</th>\n",
       "      <th>subject_name</th>\n",
       "      <th>parent_id</th>\n",
       "      <th>rank</th>\n",
       "      <th>rank_string</th>\n",
       "    </tr>\n",
       "  </thead>\n",
       "  <tbody>\n",
       "    <tr>\n",
       "      <td>0</td>\n",
       "      <td>2</td>\n",
       "      <td>小数知识树</td>\n",
       "      <td>NaN</td>\n",
       "      <td>NaN</td>\n",
       "      <td>1</td>\n",
       "      <td>2</td>\n",
       "      <td>数学</td>\n",
       "      <td>0</td>\n",
       "      <td>1</td>\n",
       "      <td>.2.</td>\n",
       "    </tr>\n",
       "    <tr>\n",
       "      <td>1</td>\n",
       "      <td>1173</td>\n",
       "      <td>课外数学</td>\n",
       "      <td>NaN</td>\n",
       "      <td>NaN</td>\n",
       "      <td>1</td>\n",
       "      <td>2</td>\n",
       "      <td>数学</td>\n",
       "      <td>2</td>\n",
       "      <td>2</td>\n",
       "      <td>.2.1173.</td>\n",
       "    </tr>\n",
       "    <tr>\n",
       "      <td>2</td>\n",
       "      <td>1174</td>\n",
       "      <td>计算</td>\n",
       "      <td>NaN</td>\n",
       "      <td>NaN</td>\n",
       "      <td>1</td>\n",
       "      <td>2</td>\n",
       "      <td>数学</td>\n",
       "      <td>1173</td>\n",
       "      <td>3</td>\n",
       "      <td>.2.1173.1174.</td>\n",
       "    </tr>\n",
       "    <tr>\n",
       "      <td>3</td>\n",
       "      <td>1176</td>\n",
       "      <td>应用题</td>\n",
       "      <td>NaN</td>\n",
       "      <td>NaN</td>\n",
       "      <td>1</td>\n",
       "      <td>2</td>\n",
       "      <td>数学</td>\n",
       "      <td>1173</td>\n",
       "      <td>3</td>\n",
       "      <td>.2.1173.1176.</td>\n",
       "    </tr>\n",
       "    <tr>\n",
       "      <td>4</td>\n",
       "      <td>1183</td>\n",
       "      <td>小数</td>\n",
       "      <td>NaN</td>\n",
       "      <td>NaN</td>\n",
       "      <td>1</td>\n",
       "      <td>2</td>\n",
       "      <td>数学</td>\n",
       "      <td>1174</td>\n",
       "      <td>4</td>\n",
       "      <td>.2.1173.1174.1183.</td>\n",
       "    </tr>\n",
       "  </tbody>\n",
       "</table>\n",
       "</div>"
      ],
      "text/plain": [
       "     id   name alias_name  description  department  subject_id subject_name  \\\n",
       "0     2  小数知识树        NaN          NaN           1           2           数学   \n",
       "1  1173   课外数学        NaN          NaN           1           2           数学   \n",
       "2  1174     计算        NaN          NaN           1           2           数学   \n",
       "3  1176    应用题        NaN          NaN           1           2           数学   \n",
       "4  1183     小数        NaN          NaN           1           2           数学   \n",
       "\n",
       "   parent_id  rank         rank_string  \n",
       "0          0     1                 .2.  \n",
       "1          2     2            .2.1173.  \n",
       "2       1173     3       .2.1173.1174.  \n",
       "3       1173     3       .2.1173.1176.  \n",
       "4       1174     4  .2.1173.1174.1183.  "
      ]
     },
     "execution_count": 4,
     "metadata": {},
     "output_type": "execute_result"
    }
   ],
   "source": [
    "df_knowledge_trees.head()"
   ]
  },
  {
   "cell_type": "code",
   "execution_count": 5,
   "metadata": {},
   "outputs": [
    {
     "data": {
      "text/html": [
       "<div>\n",
       "<style scoped>\n",
       "    .dataframe tbody tr th:only-of-type {\n",
       "        vertical-align: middle;\n",
       "    }\n",
       "\n",
       "    .dataframe tbody tr th {\n",
       "        vertical-align: top;\n",
       "    }\n",
       "\n",
       "    .dataframe thead th {\n",
       "        text-align: right;\n",
       "    }\n",
       "</style>\n",
       "<table border=\"1\" class=\"dataframe\">\n",
       "  <thead>\n",
       "    <tr style=\"text-align: right;\">\n",
       "      <th></th>\n",
       "      <th>ability_level_id</th>\n",
       "      <th>accuracy</th>\n",
       "      <th>accuracy_sort</th>\n",
       "      <th>adding_mode</th>\n",
       "      <th>answer_times</th>\n",
       "      <th>batch_num</th>\n",
       "      <th>category_id</th>\n",
       "      <th>category_tree_id</th>\n",
       "      <th>choice_type</th>\n",
       "      <th>choose_sort</th>\n",
       "      <th>...</th>\n",
       "      <th>test_type</th>\n",
       "      <th>url</th>\n",
       "      <th>use_env</th>\n",
       "      <th>used_exam_names</th>\n",
       "      <th>used_handout_names</th>\n",
       "      <th>used_sort</th>\n",
       "      <th>used_times</th>\n",
       "      <th>verify_time</th>\n",
       "      <th>verify_timestamp</th>\n",
       "      <th>year_sort</th>\n",
       "    </tr>\n",
       "  </thead>\n",
       "  <tbody>\n",
       "    <tr>\n",
       "      <td>0</td>\n",
       "      <td>0</td>\n",
       "      <td>0</td>\n",
       "      <td>0</td>\n",
       "      <td>2</td>\n",
       "      <td>0</td>\n",
       "      <td>2.018071e+13</td>\n",
       "      <td>136</td>\n",
       "      <td>NaN</td>\n",
       "      <td>0</td>\n",
       "      <td>1</td>\n",
       "      <td>...</td>\n",
       "      <td>3</td>\n",
       "      <td>1093993,1093994,1094801,1094804,1141904</td>\n",
       "      <td>1</td>\n",
       "      <td>NaN</td>\n",
       "      <td>NaN</td>\n",
       "      <td>10</td>\n",
       "      <td>0</td>\n",
       "      <td>2018-08-03 17:23:39</td>\n",
       "      <td>1533288219</td>\n",
       "      <td>9</td>\n",
       "    </tr>\n",
       "    <tr>\n",
       "      <td>1</td>\n",
       "      <td>0</td>\n",
       "      <td>0</td>\n",
       "      <td>0</td>\n",
       "      <td>2</td>\n",
       "      <td>0</td>\n",
       "      <td>2.018071e+13</td>\n",
       "      <td>136</td>\n",
       "      <td>NaN</td>\n",
       "      <td>0</td>\n",
       "      <td>1</td>\n",
       "      <td>...</td>\n",
       "      <td>3</td>\n",
       "      <td>NaN</td>\n",
       "      <td>1</td>\n",
       "      <td>NaN</td>\n",
       "      <td>NaN</td>\n",
       "      <td>10</td>\n",
       "      <td>0</td>\n",
       "      <td>2018-08-03 17:23:39</td>\n",
       "      <td>1533288219</td>\n",
       "      <td>9</td>\n",
       "    </tr>\n",
       "    <tr>\n",
       "      <td>2</td>\n",
       "      <td>0</td>\n",
       "      <td>0</td>\n",
       "      <td>0</td>\n",
       "      <td>2</td>\n",
       "      <td>0</td>\n",
       "      <td>2.018071e+13</td>\n",
       "      <td>136</td>\n",
       "      <td>NaN</td>\n",
       "      <td>0</td>\n",
       "      <td>1</td>\n",
       "      <td>...</td>\n",
       "      <td>3</td>\n",
       "      <td>NaN</td>\n",
       "      <td>1</td>\n",
       "      <td>NaN</td>\n",
       "      <td>NaN</td>\n",
       "      <td>10</td>\n",
       "      <td>0</td>\n",
       "      <td>2018-08-03 17:23:39</td>\n",
       "      <td>1533288219</td>\n",
       "      <td>9</td>\n",
       "    </tr>\n",
       "    <tr>\n",
       "      <td>3</td>\n",
       "      <td>0</td>\n",
       "      <td>0</td>\n",
       "      <td>0</td>\n",
       "      <td>2</td>\n",
       "      <td>0</td>\n",
       "      <td>2.018071e+13</td>\n",
       "      <td>138</td>\n",
       "      <td>NaN</td>\n",
       "      <td>0</td>\n",
       "      <td>1</td>\n",
       "      <td>...</td>\n",
       "      <td>1</td>\n",
       "      <td>NaN</td>\n",
       "      <td>1</td>\n",
       "      <td>NaN</td>\n",
       "      <td>NaN</td>\n",
       "      <td>10</td>\n",
       "      <td>0</td>\n",
       "      <td>2018-08-03 17:23:39</td>\n",
       "      <td>1533288219</td>\n",
       "      <td>9</td>\n",
       "    </tr>\n",
       "    <tr>\n",
       "      <td>4</td>\n",
       "      <td>0</td>\n",
       "      <td>0</td>\n",
       "      <td>0</td>\n",
       "      <td>2</td>\n",
       "      <td>0</td>\n",
       "      <td>2.018071e+13</td>\n",
       "      <td>138</td>\n",
       "      <td>NaN</td>\n",
       "      <td>0</td>\n",
       "      <td>1</td>\n",
       "      <td>...</td>\n",
       "      <td>1</td>\n",
       "      <td>NaN</td>\n",
       "      <td>1</td>\n",
       "      <td>NaN</td>\n",
       "      <td>NaN</td>\n",
       "      <td>10</td>\n",
       "      <td>0</td>\n",
       "      <td>2018-08-03 17:23:39</td>\n",
       "      <td>1533288219</td>\n",
       "      <td>9</td>\n",
       "    </tr>\n",
       "  </tbody>\n",
       "</table>\n",
       "<p>5 rows × 63 columns</p>\n",
       "</div>"
      ],
      "text/plain": [
       "   ability_level_id  accuracy  accuracy_sort  adding_mode  answer_times  \\\n",
       "0                 0         0              0            2             0   \n",
       "1                 0         0              0            2             0   \n",
       "2                 0         0              0            2             0   \n",
       "3                 0         0              0            2             0   \n",
       "4                 0         0              0            2             0   \n",
       "\n",
       "      batch_num  category_id  category_tree_id  choice_type  choose_sort  ...  \\\n",
       "0  2.018071e+13          136               NaN            0            1  ...   \n",
       "1  2.018071e+13          136               NaN            0            1  ...   \n",
       "2  2.018071e+13          136               NaN            0            1  ...   \n",
       "3  2.018071e+13          138               NaN            0            1  ...   \n",
       "4  2.018071e+13          138               NaN            0            1  ...   \n",
       "\n",
       "   test_type                                      url use_env used_exam_names  \\\n",
       "0          3  1093993,1093994,1094801,1094804,1141904       1             NaN   \n",
       "1          3                                      NaN       1             NaN   \n",
       "2          3                                      NaN       1             NaN   \n",
       "3          1                                      NaN       1             NaN   \n",
       "4          1                                      NaN       1             NaN   \n",
       "\n",
       "   used_handout_names used_sort  used_times          verify_time  \\\n",
       "0                 NaN        10           0  2018-08-03 17:23:39   \n",
       "1                 NaN        10           0  2018-08-03 17:23:39   \n",
       "2                 NaN        10           0  2018-08-03 17:23:39   \n",
       "3                 NaN        10           0  2018-08-03 17:23:39   \n",
       "4                 NaN        10           0  2018-08-03 17:23:39   \n",
       "\n",
       "   verify_timestamp  year_sort  \n",
       "0        1533288219          9  \n",
       "1        1533288219          9  \n",
       "2        1533288219          9  \n",
       "3        1533288219          9  \n",
       "4        1533288219          9  \n",
       "\n",
       "[5 rows x 63 columns]"
      ]
     },
     "execution_count": 5,
     "metadata": {},
     "output_type": "execute_result"
    }
   ],
   "source": [
    "df_test_info.head()"
   ]
  },
  {
   "cell_type": "markdown",
   "metadata": {},
   "source": [
    "#  test_info题库knowledge_ids分析"
   ]
  },
  {
   "cell_type": "code",
   "execution_count": 6,
   "metadata": {},
   "outputs": [
    {
     "data": {
      "text/plain": [
       "knowledge_ids    202509\n",
       "dtype: int64"
      ]
     },
     "execution_count": 6,
     "metadata": {},
     "output_type": "execute_result"
    }
   ],
   "source": [
    "df_test_info[[\"knowledge_ids\"]].count()"
   ]
  },
  {
   "cell_type": "code",
   "execution_count": 11,
   "metadata": {},
   "outputs": [
    {
     "data": {
      "text/html": [
       "<div>\n",
       "<style scoped>\n",
       "    .dataframe tbody tr th:only-of-type {\n",
       "        vertical-align: middle;\n",
       "    }\n",
       "\n",
       "    .dataframe tbody tr th {\n",
       "        vertical-align: top;\n",
       "    }\n",
       "\n",
       "    .dataframe thead th {\n",
       "        text-align: right;\n",
       "    }\n",
       "</style>\n",
       "<table border=\"1\" class=\"dataframe\">\n",
       "  <thead>\n",
       "    <tr style=\"text-align: right;\">\n",
       "      <th></th>\n",
       "      <th>knowledge_ids</th>\n",
       "    </tr>\n",
       "  </thead>\n",
       "  <tbody>\n",
       "    <tr>\n",
       "      <td>count</td>\n",
       "      <td>202509</td>\n",
       "    </tr>\n",
       "    <tr>\n",
       "      <td>unique</td>\n",
       "      <td>3564</td>\n",
       "    </tr>\n",
       "    <tr>\n",
       "      <td>top</td>\n",
       "      <td>,27447,27509,2,27672</td>\n",
       "    </tr>\n",
       "    <tr>\n",
       "      <td>freq</td>\n",
       "      <td>999</td>\n",
       "    </tr>\n",
       "  </tbody>\n",
       "</table>\n",
       "</div>"
      ],
      "text/plain": [
       "               knowledge_ids\n",
       "count                 202509\n",
       "unique                  3564\n",
       "top     ,27447,27509,2,27672\n",
       "freq                     999"
      ]
     },
     "execution_count": 11,
     "metadata": {},
     "output_type": "execute_result"
    }
   ],
   "source": [
    "df_test_info[[\"knowledge_ids\"]].describe()"
   ]
  },
  {
   "cell_type": "markdown",
   "metadata": {},
   "source": [
    "test_info 一共             (231891, 63)   \n",
    "knowledge_ids字段不为空     (202509, 63)    \n",
    "\n",
    "\n",
    "27447\t小学综合口算（手写专用 勿标 不能下载）    (194817, 63)    \n",
    "13796\t人教新课标课内知识树（旧版本章节树）      (3783, 63)    \n",
    "32754\t课内数学体系                          (2917, 63)    \n",
    "1173\t课外数学                             (2764, 63)   \n",
    "32753\t计算树3.0人教版（勿标  可下载）         (388, 63)   \n",
    "13241\t初中衔接            (41, 63)    \n",
    "14191\t小高计算            (13, 63)    \n",
    "13293\t小低口算题          (4, 63)   \n",
    "34731\t小学启航年级讲次树    (1, 63)    \n",
    "35878\t北师版知识树         (0, 63)   "
   ]
  },
  {
   "cell_type": "code",
   "execution_count": 46,
   "metadata": {},
   "outputs": [
    {
     "data": {
      "text/plain": [
       "(231891, 63)"
      ]
     },
     "execution_count": 46,
     "metadata": {},
     "output_type": "execute_result"
    }
   ],
   "source": [
    "df_test_info.shape"
   ]
  },
  {
   "cell_type": "code",
   "execution_count": 32,
   "metadata": {},
   "outputs": [],
   "source": [
    "df_test_info1 = df_test_info[- df_test_info[\"knowledge_ids\"].isnull()]"
   ]
  },
  {
   "cell_type": "code",
   "execution_count": 33,
   "metadata": {},
   "outputs": [
    {
     "data": {
      "text/plain": [
       "(202509, 63)"
      ]
     },
     "execution_count": 33,
     "metadata": {},
     "output_type": "execute_result"
    }
   ],
   "source": [
    "df_test_info1.shape"
   ]
  },
  {
   "cell_type": "code",
   "execution_count": 35,
   "metadata": {},
   "outputs": [
    {
     "data": {
      "text/plain": [
       "(202509, 63)"
      ]
     },
     "execution_count": 35,
     "metadata": {},
     "output_type": "execute_result"
    }
   ],
   "source": [
    "df_test_info2 = df_test_info1[df_test_info1[\"knowledge_ids\"].str.contains(\"2\")]\n",
    "df_test_info2.shape"
   ]
  },
  {
   "cell_type": "code",
   "execution_count": 36,
   "metadata": {},
   "outputs": [
    {
     "data": {
      "text/plain": [
       "(2764, 63)"
      ]
     },
     "execution_count": 36,
     "metadata": {},
     "output_type": "execute_result"
    }
   ],
   "source": [
    "df_test_info2 = df_test_info1[df_test_info1[\"knowledge_ids\"].str.contains(\"1173\")]\n",
    "df_test_info2.shape\n",
    "# 1173\t课外数学"
   ]
  },
  {
   "cell_type": "code",
   "execution_count": 37,
   "metadata": {},
   "outputs": [
    {
     "data": {
      "text/plain": [
       "(41, 63)"
      ]
     },
     "execution_count": 37,
     "metadata": {},
     "output_type": "execute_result"
    }
   ],
   "source": [
    "df_test_info2 = df_test_info1[df_test_info1[\"knowledge_ids\"].str.contains(\"13241\")]\n",
    "df_test_info2.shape"
   ]
  },
  {
   "cell_type": "code",
   "execution_count": 39,
   "metadata": {},
   "outputs": [
    {
     "data": {
      "text/plain": [
       "(3783, 63)"
      ]
     },
     "execution_count": 39,
     "metadata": {},
     "output_type": "execute_result"
    }
   ],
   "source": [
    "df_test_info2 = df_test_info1[df_test_info1[\"knowledge_ids\"].str.contains(\"13796\")]\n",
    "df_test_info2.shape\n",
    "# 13796\t人教新课标课内知识树（旧版本章节树）"
   ]
  },
  {
   "cell_type": "code",
   "execution_count": 40,
   "metadata": {},
   "outputs": [
    {
     "data": {
      "text/plain": [
       "(13, 63)"
      ]
     },
     "execution_count": 40,
     "metadata": {},
     "output_type": "execute_result"
    }
   ],
   "source": [
    "df_test_info2 = df_test_info1[df_test_info1[\"knowledge_ids\"].str.contains(\"14191\")]\n",
    "df_test_info2.shape"
   ]
  },
  {
   "cell_type": "code",
   "execution_count": 41,
   "metadata": {},
   "outputs": [
    {
     "data": {
      "text/plain": [
       "(194817, 63)"
      ]
     },
     "execution_count": 41,
     "metadata": {},
     "output_type": "execute_result"
    }
   ],
   "source": [
    "df_test_info2 = df_test_info1[df_test_info1[\"knowledge_ids\"].str.contains(\"27447\")]\n",
    "df_test_info2.shape\n",
    "\n",
    "# 27447\t小学综合口算（手写专用 勿标 不能下载）"
   ]
  },
  {
   "cell_type": "code",
   "execution_count": 42,
   "metadata": {},
   "outputs": [
    {
     "data": {
      "text/plain": [
       "(388, 63)"
      ]
     },
     "execution_count": 42,
     "metadata": {},
     "output_type": "execute_result"
    }
   ],
   "source": [
    "df_test_info2 = df_test_info1[df_test_info1[\"knowledge_ids\"].str.contains(\"32753\")]\n",
    "df_test_info2.shape\n",
    "# 32753\t计算树3.0人教版（勿标  可下载）"
   ]
  },
  {
   "cell_type": "code",
   "execution_count": 43,
   "metadata": {},
   "outputs": [
    {
     "data": {
      "text/plain": [
       "(2917, 63)"
      ]
     },
     "execution_count": 43,
     "metadata": {},
     "output_type": "execute_result"
    }
   ],
   "source": [
    "df_test_info2 = df_test_info1[df_test_info1[\"knowledge_ids\"].str.contains(\"32754\")]\n",
    "df_test_info2.shape\n",
    "# 32754\t课内数学体系"
   ]
  },
  {
   "cell_type": "code",
   "execution_count": 44,
   "metadata": {},
   "outputs": [
    {
     "data": {
      "text/plain": [
       "(1, 63)"
      ]
     },
     "execution_count": 44,
     "metadata": {},
     "output_type": "execute_result"
    }
   ],
   "source": [
    "df_test_info2 = df_test_info1[df_test_info1[\"knowledge_ids\"].str.contains(\"34731\")]\n",
    "df_test_info2.shape"
   ]
  },
  {
   "cell_type": "code",
   "execution_count": 45,
   "metadata": {},
   "outputs": [
    {
     "data": {
      "text/plain": [
       "(0, 63)"
      ]
     },
     "execution_count": 45,
     "metadata": {},
     "output_type": "execute_result"
    }
   ],
   "source": [
    "df_test_info2 = df_test_info1[df_test_info1[\"knowledge_ids\"].str.contains(\"35878\")]\n",
    "df_test_info2.shape"
   ]
  },
  {
   "cell_type": "code",
   "execution_count": 47,
   "metadata": {},
   "outputs": [
    {
     "data": {
      "text/plain": [
       "(4, 63)"
      ]
     },
     "execution_count": 47,
     "metadata": {},
     "output_type": "execute_result"
    }
   ],
   "source": [
    "df_test_info2 = df_test_info1[df_test_info1[\"knowledge_ids\"].str.contains(\"13293\")]\n",
    "df_test_info2.shape\n"
   ]
  },
  {
   "cell_type": "code",
   "execution_count": 48,
   "metadata": {},
   "outputs": [
    {
     "data": {
      "text/plain": [
       "(0, 63)"
      ]
     },
     "execution_count": 48,
     "metadata": {},
     "output_type": "execute_result"
    }
   ],
   "source": [
    "df_test_info2 = df_test_info1[df_test_info1[\"knowledge_ids\"].str.contains(\"2,13293\")]\n",
    "df_test_info2.shape"
   ]
  },
  {
   "cell_type": "code",
   "execution_count": 50,
   "metadata": {},
   "outputs": [
    {
     "data": {
      "text/plain": [
       "(202509, 63)"
      ]
     },
     "execution_count": 50,
     "metadata": {},
     "output_type": "execute_result"
    }
   ],
   "source": [
    "df_test_info1.shape"
   ]
  },
  {
   "cell_type": "code",
   "execution_count": 51,
   "metadata": {},
   "outputs": [
    {
     "data": {
      "text/plain": [
       "(202509, 1)"
      ]
     },
     "execution_count": 51,
     "metadata": {},
     "output_type": "execute_result"
    }
   ],
   "source": [
    "df_test_info1[[\"knowledge_ids\"]]"
   ]
  },
  {
   "cell_type": "code",
   "execution_count": null,
   "metadata": {},
   "outputs": [],
   "source": []
  },
  {
   "cell_type": "markdown",
   "metadata": {},
   "source": [
    "# 知识点拆分"
   ]
  },
  {
   "cell_type": "code",
   "execution_count": 52,
   "metadata": {},
   "outputs": [
    {
     "data": {
      "text/html": [
       "<div>\n",
       "<style scoped>\n",
       "    .dataframe tbody tr th:only-of-type {\n",
       "        vertical-align: middle;\n",
       "    }\n",
       "\n",
       "    .dataframe tbody tr th {\n",
       "        vertical-align: top;\n",
       "    }\n",
       "\n",
       "    .dataframe thead th {\n",
       "        text-align: right;\n",
       "    }\n",
       "</style>\n",
       "<table border=\"1\" class=\"dataframe\">\n",
       "  <thead>\n",
       "    <tr style=\"text-align: right;\">\n",
       "      <th></th>\n",
       "      <th>id</th>\n",
       "      <th>parent_id</th>\n",
       "      <th>rank</th>\n",
       "      <th>rank_string</th>\n",
       "    </tr>\n",
       "  </thead>\n",
       "  <tbody>\n",
       "    <tr>\n",
       "      <td>0</td>\n",
       "      <td>2</td>\n",
       "      <td>0</td>\n",
       "      <td>1</td>\n",
       "      <td>.2.</td>\n",
       "    </tr>\n",
       "    <tr>\n",
       "      <td>1</td>\n",
       "      <td>1173</td>\n",
       "      <td>2</td>\n",
       "      <td>2</td>\n",
       "      <td>.2.1173.</td>\n",
       "    </tr>\n",
       "    <tr>\n",
       "      <td>2</td>\n",
       "      <td>1174</td>\n",
       "      <td>1173</td>\n",
       "      <td>3</td>\n",
       "      <td>.2.1173.1174.</td>\n",
       "    </tr>\n",
       "    <tr>\n",
       "      <td>3</td>\n",
       "      <td>1176</td>\n",
       "      <td>1173</td>\n",
       "      <td>3</td>\n",
       "      <td>.2.1173.1176.</td>\n",
       "    </tr>\n",
       "    <tr>\n",
       "      <td>4</td>\n",
       "      <td>1183</td>\n",
       "      <td>1174</td>\n",
       "      <td>4</td>\n",
       "      <td>.2.1173.1174.1183.</td>\n",
       "    </tr>\n",
       "    <tr>\n",
       "      <td>...</td>\n",
       "      <td>...</td>\n",
       "      <td>...</td>\n",
       "      <td>...</td>\n",
       "      <td>...</td>\n",
       "    </tr>\n",
       "    <tr>\n",
       "      <td>4464</td>\n",
       "      <td>36723</td>\n",
       "      <td>33314</td>\n",
       "      <td>5</td>\n",
       "      <td>.2.32754.32756.33314.36723.</td>\n",
       "    </tr>\n",
       "    <tr>\n",
       "      <td>4465</td>\n",
       "      <td>36724</td>\n",
       "      <td>33314</td>\n",
       "      <td>5</td>\n",
       "      <td>.2.32754.32756.33314.36724.</td>\n",
       "    </tr>\n",
       "    <tr>\n",
       "      <td>4466</td>\n",
       "      <td>36725</td>\n",
       "      <td>33314</td>\n",
       "      <td>5</td>\n",
       "      <td>.2.32754.32756.33314.36725.</td>\n",
       "    </tr>\n",
       "    <tr>\n",
       "      <td>4467</td>\n",
       "      <td>36726</td>\n",
       "      <td>33314</td>\n",
       "      <td>5</td>\n",
       "      <td>.2.32754.32756.33314.36726.</td>\n",
       "    </tr>\n",
       "    <tr>\n",
       "      <td>4468</td>\n",
       "      <td>36727</td>\n",
       "      <td>33314</td>\n",
       "      <td>5</td>\n",
       "      <td>.2.32754.32756.33314.36727.</td>\n",
       "    </tr>\n",
       "  </tbody>\n",
       "</table>\n",
       "<p>4469 rows × 4 columns</p>\n",
       "</div>"
      ],
      "text/plain": [
       "         id  parent_id  rank                  rank_string\n",
       "0         2          0     1                          .2.\n",
       "1      1173          2     2                     .2.1173.\n",
       "2      1174       1173     3                .2.1173.1174.\n",
       "3      1176       1173     3                .2.1173.1176.\n",
       "4      1183       1174     4           .2.1173.1174.1183.\n",
       "...     ...        ...   ...                          ...\n",
       "4464  36723      33314     5  .2.32754.32756.33314.36723.\n",
       "4465  36724      33314     5  .2.32754.32756.33314.36724.\n",
       "4466  36725      33314     5  .2.32754.32756.33314.36725.\n",
       "4467  36726      33314     5  .2.32754.32756.33314.36726.\n",
       "4468  36727      33314     5  .2.32754.32756.33314.36727.\n",
       "\n",
       "[4469 rows x 4 columns]"
      ]
     },
     "execution_count": 52,
     "metadata": {},
     "output_type": "execute_result"
    }
   ],
   "source": [
    "df_knowledge_trees[[\"id\",\"parent_id\",\"rank\",\"rank_string\"]]"
   ]
  },
  {
   "cell_type": "code",
   "execution_count": 53,
   "metadata": {},
   "outputs": [
    {
     "data": {
      "text/html": [
       "<div>\n",
       "<style scoped>\n",
       "    .dataframe tbody tr th:only-of-type {\n",
       "        vertical-align: middle;\n",
       "    }\n",
       "\n",
       "    .dataframe tbody tr th {\n",
       "        vertical-align: top;\n",
       "    }\n",
       "\n",
       "    .dataframe thead th {\n",
       "        text-align: right;\n",
       "    }\n",
       "</style>\n",
       "<table border=\"1\" class=\"dataframe\">\n",
       "  <thead>\n",
       "    <tr style=\"text-align: right;\">\n",
       "      <th></th>\n",
       "      <th>test_id</th>\n",
       "      <th>knowledge_ids</th>\n",
       "      <th>knowledge_num</th>\n",
       "    </tr>\n",
       "  </thead>\n",
       "  <tbody>\n",
       "    <tr>\n",
       "      <td>0</td>\n",
       "      <td>2000200</td>\n",
       "      <td>,3206,1173,3200,3865,3864,3207,2,3264,3199</td>\n",
       "      <td>2.0</td>\n",
       "    </tr>\n",
       "    <tr>\n",
       "      <td>1</td>\n",
       "      <td>2000201</td>\n",
       "      <td>,1173,3344,2,3407,3339,3418</td>\n",
       "      <td>1.0</td>\n",
       "    </tr>\n",
       "    <tr>\n",
       "      <td>2</td>\n",
       "      <td>2000202</td>\n",
       "      <td>,3215,3203,7090,7091,2,7104,3306,1173,3339,331...</td>\n",
       "      <td>2.0</td>\n",
       "    </tr>\n",
       "    <tr>\n",
       "      <td>3</td>\n",
       "      <td>2000203</td>\n",
       "      <td>,3519,1173,13448,3505,2,3732</td>\n",
       "      <td>2.0</td>\n",
       "    </tr>\n",
       "    <tr>\n",
       "      <td>4</td>\n",
       "      <td>2000204</td>\n",
       "      <td>,3387,1173,3394,3343,2,3339</td>\n",
       "      <td>1.0</td>\n",
       "    </tr>\n",
       "    <tr>\n",
       "      <td>...</td>\n",
       "      <td>...</td>\n",
       "      <td>...</td>\n",
       "      <td>...</td>\n",
       "    </tr>\n",
       "    <tr>\n",
       "      <td>231886</td>\n",
       "      <td>2499189</td>\n",
       "      <td>,1198,1174,1173,1207,2</td>\n",
       "      <td>1.0</td>\n",
       "    </tr>\n",
       "    <tr>\n",
       "      <td>231887</td>\n",
       "      <td>2499190</td>\n",
       "      <td>,1198,1210,1174,1173,1239,1229,2</td>\n",
       "      <td>1.0</td>\n",
       "    </tr>\n",
       "    <tr>\n",
       "      <td>231888</td>\n",
       "      <td>2499397</td>\n",
       "      <td>,33558,13797,13796,33557,33684,33687,2,32754,1...</td>\n",
       "      <td>4.0</td>\n",
       "    </tr>\n",
       "    <tr>\n",
       "      <td>231889</td>\n",
       "      <td>2499514</td>\n",
       "      <td>,13797,13796,33557,32758,2,32754,13808,16231,1...</td>\n",
       "      <td>2.0</td>\n",
       "    </tr>\n",
       "    <tr>\n",
       "      <td>231890</td>\n",
       "      <td>2499784</td>\n",
       "      <td>,13797,13796,33557,32758,2,32754,13808,16231,1...</td>\n",
       "      <td>2.0</td>\n",
       "    </tr>\n",
       "  </tbody>\n",
       "</table>\n",
       "<p>231891 rows × 3 columns</p>\n",
       "</div>"
      ],
      "text/plain": [
       "        test_id                                      knowledge_ids  \\\n",
       "0       2000200         ,3206,1173,3200,3865,3864,3207,2,3264,3199   \n",
       "1       2000201                        ,1173,3344,2,3407,3339,3418   \n",
       "2       2000202  ,3215,3203,7090,7091,2,7104,3306,1173,3339,331...   \n",
       "3       2000203                       ,3519,1173,13448,3505,2,3732   \n",
       "4       2000204                        ,3387,1173,3394,3343,2,3339   \n",
       "...         ...                                                ...   \n",
       "231886  2499189                             ,1198,1174,1173,1207,2   \n",
       "231887  2499190                   ,1198,1210,1174,1173,1239,1229,2   \n",
       "231888  2499397  ,33558,13797,13796,33557,33684,33687,2,32754,1...   \n",
       "231889  2499514  ,13797,13796,33557,32758,2,32754,13808,16231,1...   \n",
       "231890  2499784  ,13797,13796,33557,32758,2,32754,13808,16231,1...   \n",
       "\n",
       "        knowledge_num  \n",
       "0                 2.0  \n",
       "1                 1.0  \n",
       "2                 2.0  \n",
       "3                 2.0  \n",
       "4                 1.0  \n",
       "...               ...  \n",
       "231886            1.0  \n",
       "231887            1.0  \n",
       "231888            4.0  \n",
       "231889            2.0  \n",
       "231890            2.0  \n",
       "\n",
       "[231891 rows x 3 columns]"
      ]
     },
     "execution_count": 53,
     "metadata": {},
     "output_type": "execute_result"
    }
   ],
   "source": [
    "df_test_info[[\"test_id\",\"knowledge_ids\",\"knowledge_num\"]]"
   ]
  },
  {
   "cell_type": "code",
   "execution_count": 54,
   "metadata": {},
   "outputs": [
    {
     "data": {
      "text/plain": [
       "test_id            int64\n",
       "knowledge_ids     object\n",
       "knowledge_num    float64\n",
       "dtype: object"
      ]
     },
     "execution_count": 54,
     "metadata": {},
     "output_type": "execute_result"
    }
   ],
   "source": [
    "df_test_info[[\"test_id\",\"knowledge_ids\",\"knowledge_num\"]].dtypes"
   ]
  },
  {
   "cell_type": "code",
   "execution_count": null,
   "metadata": {},
   "outputs": [],
   "source": [
    "def knowledge_num_1(str1):\n",
    "#     str1 = \",1176,1173,2788,2,10492\"\n",
    "    str1_list = [int(i) for i in str1.split(\",\") if i is not \"\"]\n",
    "    str1_list.sort()\n",
    "    str1_result = \".\".join( [str(i) for i in str1_list])\n",
    "    str1_result = \".\" + str1_result + \".\"\n",
    "    return str1_result"
   ]
  },
  {
   "cell_type": "code",
   "execution_count": null,
   "metadata": {},
   "outputs": [],
   "source": [
    "def knowledge_num_2(str2):\n",
    "    pass"
   ]
  },
  {
   "cell_type": "markdown",
   "metadata": {},
   "source": [
    "# get_knowledge_ids\n",
    "## 拆分知识点的思路：\n",
    "+ 1、将knowledge_ids转成列表(原始列表)进行排序，选出做最大值。\n",
    "+ 2、选出最大值，最大值在知识树中对应的rank_string，将rank_string转成列表。\n",
    "+ 3、对原始列表和rank_strin列表取差集，差集再取最大值。\n",
    "+ 4、差集最大值选择知识树选择对应的rank_string_new，将rank_string_new转成列表。\n",
    "+ 5、将获得的rank_string、rank_string_new等进行合集，与原始序列进行差集，取最大值\n",
    "+ 6、停止条件是差集为空。\n"
   ]
  },
  {
   "cell_type": "code",
   "execution_count": 101,
   "metadata": {},
   "outputs": [],
   "source": [
    "def get_knowledge_ids(knowledge_ids):\n",
    "    \"\"\"\n",
    "    拆分知识点\n",
    "    \"\"\"\n",
    "    knowledge_ids = str(knowledge_ids)\n",
    "    if len(knowledge_ids)>0 :\n",
    "        knowledge_ids_list = [int(i) for i in knowledge_ids.split(\",\") if i is not \"\"]\n",
    "        knowledge_ids_list.sort()\n",
    "\n",
    "        rank_string = df_knowledge_trees[df_knowledge_trees[\"id\"] == max(knowledge_ids_list)][\"rank_string\"].values[0]\n",
    "        rank_string_list = [rank_string]\n",
    "        rank_string = [int(i) for i in rank_string.split(\".\") if i is not \"\"]\n",
    "\n",
    "        diff = list(set(knowledge_ids_list).difference(set(rank_string)))\n",
    "\n",
    "        while len(diff)>0:\n",
    "            rank_string_new = df_knowledge_trees[df_knowledge_trees[\"id\"] == max(diff)][\"rank_string\"].values[0]\n",
    "            rank_string_list.append(rank_string_new)\n",
    "\n",
    "            rank_string_new = [int(i) for i in rank_string_new.split(\".\") if i is not \"\"]\n",
    "            rank_string = list(set(rank_string).union(set(rank_string_new)))\n",
    "            diff = list(set(knowledge_ids_list).difference(set(rank_string)))\n",
    "\n",
    "        return rank_string_list[::-1]\n",
    "    else:\n",
    "        return"
   ]
  },
  {
   "cell_type": "code",
   "execution_count": 107,
   "metadata": {},
   "outputs": [
    {
     "data": {
      "text/plain": [
       "['.2.32754.32761.33775.33824.',\n",
       " '.2.27447.27513.27686.27893.',\n",
       " '.2.13796.13797.13804.16218.',\n",
       " '.2.13796.13797.13804.16217.']"
      ]
     },
     "execution_count": 107,
     "metadata": {},
     "output_type": "execute_result"
    }
   ],
   "source": [
    "# knowledge_ids = \",3206,1173,3200,3865,3864,3207,2,3264,3199\"\n",
    "knowledge_ids = \",16217,27686,13797,13796,32761,27893,16218,33824,2,33775,13804,32754,27513,27447\"\n",
    "get_knowledge_ids(knowledge_ids)"
   ]
  },
  {
   "cell_type": "code",
   "execution_count": 108,
   "metadata": {},
   "outputs": [
    {
     "name": "stdout",
     "output_type": "stream",
     "text": [
      "<class 'NoneType'>\n"
     ]
    }
   ],
   "source": [
    "knowledge_ids = \"\"\n",
    "s = get_knowledge_ids(knowledge_ids)\n",
    "print(type(s))"
   ]
  },
  {
   "cell_type": "code",
   "execution_count": 156,
   "metadata": {},
   "outputs": [],
   "source": [
    "df_test_info_3 = df_test_info[[\"test_id\",\"knowledge_ids\",\"knowledge_num\"]][:20]"
   ]
  },
  {
   "cell_type": "code",
   "execution_count": 157,
   "metadata": {},
   "outputs": [
    {
     "data": {
      "text/html": [
       "<div>\n",
       "<style scoped>\n",
       "    .dataframe tbody tr th:only-of-type {\n",
       "        vertical-align: middle;\n",
       "    }\n",
       "\n",
       "    .dataframe tbody tr th {\n",
       "        vertical-align: top;\n",
       "    }\n",
       "\n",
       "    .dataframe thead th {\n",
       "        text-align: right;\n",
       "    }\n",
       "</style>\n",
       "<table border=\"1\" class=\"dataframe\">\n",
       "  <thead>\n",
       "    <tr style=\"text-align: right;\">\n",
       "      <th></th>\n",
       "      <th>test_id</th>\n",
       "      <th>knowledge_ids</th>\n",
       "      <th>knowledge_num</th>\n",
       "    </tr>\n",
       "  </thead>\n",
       "  <tbody>\n",
       "    <tr>\n",
       "      <td>0</td>\n",
       "      <td>2000200</td>\n",
       "      <td>,3206,1173,3200,3865,3864,3207,2,3264,3199</td>\n",
       "      <td>2.0</td>\n",
       "    </tr>\n",
       "    <tr>\n",
       "      <td>1</td>\n",
       "      <td>2000201</td>\n",
       "      <td>,1173,3344,2,3407,3339,3418</td>\n",
       "      <td>1.0</td>\n",
       "    </tr>\n",
       "    <tr>\n",
       "      <td>2</td>\n",
       "      <td>2000202</td>\n",
       "      <td>,3215,3203,7090,7091,2,7104,3306,1173,3339,331...</td>\n",
       "      <td>2.0</td>\n",
       "    </tr>\n",
       "    <tr>\n",
       "      <td>3</td>\n",
       "      <td>2000203</td>\n",
       "      <td>,3519,1173,13448,3505,2,3732</td>\n",
       "      <td>2.0</td>\n",
       "    </tr>\n",
       "    <tr>\n",
       "      <td>4</td>\n",
       "      <td>2000204</td>\n",
       "      <td>,3387,1173,3394,3343,2,3339</td>\n",
       "      <td>1.0</td>\n",
       "    </tr>\n",
       "    <tr>\n",
       "      <td>5</td>\n",
       "      <td>2000205</td>\n",
       "      <td>,1176,3338,1173,2992,2993,2994,3004,2,2785</td>\n",
       "      <td>3.0</td>\n",
       "    </tr>\n",
       "    <tr>\n",
       "      <td>6</td>\n",
       "      <td>2000206</td>\n",
       "      <td>,1173,7090,7091,3344,2,7104,3407,3339,3418</td>\n",
       "      <td>2.0</td>\n",
       "    </tr>\n",
       "    <tr>\n",
       "      <td>7</td>\n",
       "      <td>2000207</td>\n",
       "      <td>,3508,1173,3541,3595,3598,3505,3506,3524,2,3537</td>\n",
       "      <td>2.0</td>\n",
       "    </tr>\n",
       "    <tr>\n",
       "      <td>8</td>\n",
       "      <td>2000208</td>\n",
       "      <td>,3207,3249,1173,3259,3200,3206,13395,3263,2,13...</td>\n",
       "      <td>4.0</td>\n",
       "    </tr>\n",
       "    <tr>\n",
       "      <td>9</td>\n",
       "      <td>2000209</td>\n",
       "      <td>,1176,2901,1173,2,2794</td>\n",
       "      <td>1.0</td>\n",
       "    </tr>\n",
       "    <tr>\n",
       "      <td>10</td>\n",
       "      <td>2000210</td>\n",
       "      <td>,1176,1173,2788,2,10492</td>\n",
       "      <td>1.0</td>\n",
       "    </tr>\n",
       "    <tr>\n",
       "      <td>11</td>\n",
       "      <td>2000211</td>\n",
       "      <td>,3205,1173,3200,3238,11029,3245,2,3199</td>\n",
       "      <td>2.0</td>\n",
       "    </tr>\n",
       "    <tr>\n",
       "      <td>12</td>\n",
       "      <td>2000212</td>\n",
       "      <td>,1176,1173,10971,2789,2,10974,10970,2975</td>\n",
       "      <td>2.0</td>\n",
       "    </tr>\n",
       "    <tr>\n",
       "      <td>13</td>\n",
       "      <td>2000213</td>\n",
       "      <td>,1198,1174,1173,1349,2,1227</td>\n",
       "      <td>1.0</td>\n",
       "    </tr>\n",
       "    <tr>\n",
       "      <td>14</td>\n",
       "      <td>2000214</td>\n",
       "      <td>,1198,1210,1174,1173,7070,1183,1366,2,7037,7038</td>\n",
       "      <td>2.0</td>\n",
       "    </tr>\n",
       "    <tr>\n",
       "      <td>15</td>\n",
       "      <td>2000215</td>\n",
       "      <td>,1176,4389,11181,1173,2884,11183,11182,2,2886,...</td>\n",
       "      <td>3.0</td>\n",
       "    </tr>\n",
       "    <tr>\n",
       "      <td>16</td>\n",
       "      <td>2000314</td>\n",
       "      <td>NaN</td>\n",
       "      <td>0.0</td>\n",
       "    </tr>\n",
       "    <tr>\n",
       "      <td>17</td>\n",
       "      <td>2000315</td>\n",
       "      <td>NaN</td>\n",
       "      <td>0.0</td>\n",
       "    </tr>\n",
       "    <tr>\n",
       "      <td>18</td>\n",
       "      <td>2000316</td>\n",
       "      <td>NaN</td>\n",
       "      <td>0.0</td>\n",
       "    </tr>\n",
       "    <tr>\n",
       "      <td>19</td>\n",
       "      <td>2000317</td>\n",
       "      <td>NaN</td>\n",
       "      <td>0.0</td>\n",
       "    </tr>\n",
       "  </tbody>\n",
       "</table>\n",
       "</div>"
      ],
      "text/plain": [
       "    test_id                                      knowledge_ids  knowledge_num\n",
       "0   2000200         ,3206,1173,3200,3865,3864,3207,2,3264,3199            2.0\n",
       "1   2000201                        ,1173,3344,2,3407,3339,3418            1.0\n",
       "2   2000202  ,3215,3203,7090,7091,2,7104,3306,1173,3339,331...            2.0\n",
       "3   2000203                       ,3519,1173,13448,3505,2,3732            2.0\n",
       "4   2000204                        ,3387,1173,3394,3343,2,3339            1.0\n",
       "5   2000205         ,1176,3338,1173,2992,2993,2994,3004,2,2785            3.0\n",
       "6   2000206         ,1173,7090,7091,3344,2,7104,3407,3339,3418            2.0\n",
       "7   2000207    ,3508,1173,3541,3595,3598,3505,3506,3524,2,3537            2.0\n",
       "8   2000208  ,3207,3249,1173,3259,3200,3206,13395,3263,2,13...            4.0\n",
       "9   2000209                             ,1176,2901,1173,2,2794            1.0\n",
       "10  2000210                            ,1176,1173,2788,2,10492            1.0\n",
       "11  2000211             ,3205,1173,3200,3238,11029,3245,2,3199            2.0\n",
       "12  2000212           ,1176,1173,10971,2789,2,10974,10970,2975            2.0\n",
       "13  2000213                        ,1198,1174,1173,1349,2,1227            1.0\n",
       "14  2000214    ,1198,1210,1174,1173,7070,1183,1366,2,7037,7038            2.0\n",
       "15  2000215  ,1176,4389,11181,1173,2884,11183,11182,2,2886,...            3.0\n",
       "16  2000314                                                NaN            0.0\n",
       "17  2000315                                                NaN            0.0\n",
       "18  2000316                                                NaN            0.0\n",
       "19  2000317                                                NaN            0.0"
      ]
     },
     "execution_count": 157,
     "metadata": {},
     "output_type": "execute_result"
    }
   ],
   "source": [
    "df_test_info_3"
   ]
  },
  {
   "cell_type": "code",
   "execution_count": 146,
   "metadata": {},
   "outputs": [],
   "source": [
    "df_test_info_3 = df_test_info_3[-df_test_info_3[\"knowledge_ids\"].isna()]\n",
    "df_test_info_3"
   ]
  },
  {
   "cell_type": "code",
   "execution_count": 195,
   "metadata": {},
   "outputs": [],
   "source": [
    "\n",
    "def get_knowledge_ids(knowledge_ids):\n",
    "    \"\"\"\n",
    "    拆分知识点\n",
    "    \"\"\"\n",
    "    knowledge_ids = str(knowledge_ids)\n",
    "    if len(knowledge_ids)>0 and knowledge_ids is not np.NAN:\n",
    "        \n",
    "        knowledge_ids_list = [int(i) for i in knowledge_ids.split(\",\") if i is not \"\"]\n",
    "#         knowledge_ids_list = [int(i) for i in knowledge_ids.split(\",\") if i is not np.NAN]\n",
    "     \n",
    "        knowledge_ids_list.sort()\n",
    "\n",
    "        rank_string = df_knowledge_trees[df_knowledge_trees[\"id\"] == max(knowledge_ids_list)][\"rank_string\"].values[0]\n",
    "        rank_string_list = [rank_string]\n",
    "        rank_string = [int(i) for i in rank_string.split(\".\") if i is not \"\"]\n",
    "\n",
    "        diff = list(set(knowledge_ids_list).difference(set(rank_string)))\n",
    "\n",
    "        while len(diff)>0:\n",
    "            rank_string_new = df_knowledge_trees[df_knowledge_trees[\"id\"] == max(diff)][\"rank_string\"].values[0]\n",
    "            rank_string_list.append(rank_string_new)\n",
    "\n",
    "            rank_string_new = [int(i) for i in rank_string_new.split(\".\") if i is not \"\"]\n",
    "            rank_string = list(set(rank_string).union(set(rank_string_new)))\n",
    "            diff = list(set(knowledge_ids_list).difference(set(rank_string)))\n",
    "\n",
    "        return rank_string_list[::-1]\n",
    "    else:\n",
    "        return"
   ]
  },
  {
   "cell_type": "code",
   "execution_count": 183,
   "metadata": {},
   "outputs": [
    {
     "ename": "ValueError",
     "evalue": "max() arg is an empty sequence",
     "output_type": "error",
     "traceback": [
      "\u001b[0;31m---------------------------------------------------------------------------\u001b[0m",
      "\u001b[0;31mValueError\u001b[0m                                Traceback (most recent call last)",
      "\u001b[0;32m<ipython-input-183-4ccc5f845b11>\u001b[0m in \u001b[0;36m<module>\u001b[0;34m\u001b[0m\n\u001b[0;32m----> 1\u001b[0;31m \u001b[0mdf_test_info_3\u001b[0m\u001b[0;34m[\u001b[0m\u001b[0;34m\"chai\"\u001b[0m\u001b[0;34m]\u001b[0m \u001b[0;34m=\u001b[0m \u001b[0mdf_test_info_3\u001b[0m\u001b[0;34m[\u001b[0m\u001b[0;34m\"knowledge_ids\"\u001b[0m\u001b[0;34m]\u001b[0m\u001b[0;34m.\u001b[0m\u001b[0mapply\u001b[0m\u001b[0;34m(\u001b[0m\u001b[0mget_knowledge_ids\u001b[0m\u001b[0;34m)\u001b[0m\u001b[0;34m\u001b[0m\u001b[0;34m\u001b[0m\u001b[0m\n\u001b[0m\u001b[1;32m      2\u001b[0m \u001b[0mdf_test_info_3\u001b[0m\u001b[0;34m\u001b[0m\u001b[0;34m\u001b[0m\u001b[0m\n",
      "\u001b[0;32m~/opt/anaconda3/lib/python3.7/site-packages/pandas/core/series.py\u001b[0m in \u001b[0;36mapply\u001b[0;34m(self, func, convert_dtype, args, **kwds)\u001b[0m\n\u001b[1;32m   4040\u001b[0m             \u001b[0;32melse\u001b[0m\u001b[0;34m:\u001b[0m\u001b[0;34m\u001b[0m\u001b[0;34m\u001b[0m\u001b[0m\n\u001b[1;32m   4041\u001b[0m                 \u001b[0mvalues\u001b[0m \u001b[0;34m=\u001b[0m \u001b[0mself\u001b[0m\u001b[0;34m.\u001b[0m\u001b[0mastype\u001b[0m\u001b[0;34m(\u001b[0m\u001b[0mobject\u001b[0m\u001b[0;34m)\u001b[0m\u001b[0;34m.\u001b[0m\u001b[0mvalues\u001b[0m\u001b[0;34m\u001b[0m\u001b[0;34m\u001b[0m\u001b[0m\n\u001b[0;32m-> 4042\u001b[0;31m                 \u001b[0mmapped\u001b[0m \u001b[0;34m=\u001b[0m \u001b[0mlib\u001b[0m\u001b[0;34m.\u001b[0m\u001b[0mmap_infer\u001b[0m\u001b[0;34m(\u001b[0m\u001b[0mvalues\u001b[0m\u001b[0;34m,\u001b[0m \u001b[0mf\u001b[0m\u001b[0;34m,\u001b[0m \u001b[0mconvert\u001b[0m\u001b[0;34m=\u001b[0m\u001b[0mconvert_dtype\u001b[0m\u001b[0;34m)\u001b[0m\u001b[0;34m\u001b[0m\u001b[0;34m\u001b[0m\u001b[0m\n\u001b[0m\u001b[1;32m   4043\u001b[0m \u001b[0;34m\u001b[0m\u001b[0m\n\u001b[1;32m   4044\u001b[0m         \u001b[0;32mif\u001b[0m \u001b[0mlen\u001b[0m\u001b[0;34m(\u001b[0m\u001b[0mmapped\u001b[0m\u001b[0;34m)\u001b[0m \u001b[0;32mand\u001b[0m \u001b[0misinstance\u001b[0m\u001b[0;34m(\u001b[0m\u001b[0mmapped\u001b[0m\u001b[0;34m[\u001b[0m\u001b[0;36m0\u001b[0m\u001b[0;34m]\u001b[0m\u001b[0;34m,\u001b[0m \u001b[0mSeries\u001b[0m\u001b[0;34m)\u001b[0m\u001b[0;34m:\u001b[0m\u001b[0;34m\u001b[0m\u001b[0;34m\u001b[0m\u001b[0m\n",
      "\u001b[0;32mpandas/_libs/lib.pyx\u001b[0m in \u001b[0;36mpandas._libs.lib.map_infer\u001b[0;34m()\u001b[0m\n",
      "\u001b[0;32m<ipython-input-181-34ec4106da61>\u001b[0m in \u001b[0;36mget_knowledge_ids\u001b[0;34m(knowledge_ids)\u001b[0m\n\u001b[1;32m     11\u001b[0m         \u001b[0mknowledge_ids_list\u001b[0m\u001b[0;34m.\u001b[0m\u001b[0msort\u001b[0m\u001b[0;34m(\u001b[0m\u001b[0;34m)\u001b[0m\u001b[0;34m\u001b[0m\u001b[0;34m\u001b[0m\u001b[0m\n\u001b[1;32m     12\u001b[0m \u001b[0;34m\u001b[0m\u001b[0m\n\u001b[0;32m---> 13\u001b[0;31m         \u001b[0mrank_string\u001b[0m \u001b[0;34m=\u001b[0m \u001b[0mdf_knowledge_trees\u001b[0m\u001b[0;34m[\u001b[0m\u001b[0mdf_knowledge_trees\u001b[0m\u001b[0;34m[\u001b[0m\u001b[0;34m\"id\"\u001b[0m\u001b[0;34m]\u001b[0m \u001b[0;34m==\u001b[0m \u001b[0mmax\u001b[0m\u001b[0;34m(\u001b[0m\u001b[0mknowledge_ids_list\u001b[0m\u001b[0;34m)\u001b[0m\u001b[0;34m]\u001b[0m\u001b[0;34m[\u001b[0m\u001b[0;34m\"rank_string\"\u001b[0m\u001b[0;34m]\u001b[0m\u001b[0;34m.\u001b[0m\u001b[0mvalues\u001b[0m\u001b[0;34m[\u001b[0m\u001b[0;36m0\u001b[0m\u001b[0;34m]\u001b[0m\u001b[0;34m\u001b[0m\u001b[0;34m\u001b[0m\u001b[0m\n\u001b[0m\u001b[1;32m     14\u001b[0m         \u001b[0mrank_string_list\u001b[0m \u001b[0;34m=\u001b[0m \u001b[0;34m[\u001b[0m\u001b[0mrank_string\u001b[0m\u001b[0;34m]\u001b[0m\u001b[0;34m\u001b[0m\u001b[0;34m\u001b[0m\u001b[0m\n\u001b[1;32m     15\u001b[0m         \u001b[0mrank_string\u001b[0m \u001b[0;34m=\u001b[0m \u001b[0;34m[\u001b[0m\u001b[0mint\u001b[0m\u001b[0;34m(\u001b[0m\u001b[0mi\u001b[0m\u001b[0;34m)\u001b[0m \u001b[0;32mfor\u001b[0m \u001b[0mi\u001b[0m \u001b[0;32min\u001b[0m \u001b[0mrank_string\u001b[0m\u001b[0;34m.\u001b[0m\u001b[0msplit\u001b[0m\u001b[0;34m(\u001b[0m\u001b[0;34m\".\"\u001b[0m\u001b[0;34m)\u001b[0m \u001b[0;32mif\u001b[0m \u001b[0mi\u001b[0m \u001b[0;32mis\u001b[0m \u001b[0;32mnot\u001b[0m \u001b[0;34m\"\"\u001b[0m\u001b[0;34m]\u001b[0m\u001b[0;34m\u001b[0m\u001b[0;34m\u001b[0m\u001b[0m\n",
      "\u001b[0;31mValueError\u001b[0m: max() arg is an empty sequence"
     ]
    }
   ],
   "source": [
    "df_test_info_3[\"chai\"] = df_test_info_3[\"knowledge_ids\"].apply(get_knowledge_ids)\n",
    "df_test_info_3"
   ]
  },
  {
   "cell_type": "code",
   "execution_count": 189,
   "metadata": {},
   "outputs": [
    {
     "data": {
      "text/plain": [
       "['.2.32754.32755.32801.32845.',\n",
       " '.2.32754.32755.32801.32843.',\n",
       " '.2.32754.32755.32801.32830.',\n",
       " '.2.32754.32755.32801.32824.',\n",
       " '.2.13796.13797.13803.16213.',\n",
       " '.2.13796.13797.13803.13818.']"
      ]
     },
     "execution_count": 189,
     "metadata": {},
     "output_type": "execute_result"
    }
   ],
   "source": [
    "knowledge_ids = \",16213,32801,13797,13796,32843,32845,2,32754,32755,13818,32824,32830,13803\"\n",
    "get_knowledge_ids(knowledge_ids)"
   ]
  },
  {
   "cell_type": "markdown",
   "metadata": {},
   "source": [
    "['.2.32754.32755.32801.32845.',#根据读法写出数字（带零和不带零）  \n",
    " '.2.32754.32755.32801.32843.',# 认识“亿\"   \n",
    " '.2.32754.32755.32801.32830.',#根据准确数求近似数   \n",
    " '.2.32754.32755.32801.32824.',#改写成以“万”为单位的数   \n",
    " '.2.13796.13797.13803.16213.',#亿以上数的写法和改写   \n",
    " '.2.13796.13797.13803.13818.']#亿以上数的认识和读法     \n",
    " .2.13796.13797.13803. 大数的认识  \n",
    " .2.32754.32755.32801. 大数的认识"
   ]
  },
  {
   "cell_type": "code",
   "execution_count": 196,
   "metadata": {},
   "outputs": [
    {
     "data": {
      "text/plain": [
       "['.2.13796.13801.13906.16135.',\n",
       " '.2.13796.13801.13906.16136.',\n",
       " '.2.13796.13801.13908.13915.16144.',\n",
       " '.2.32754.32757.33435.33523.',\n",
       " '.2.32754.32757.33435.33542.',\n",
       " '.2.32754.32758.33560.33717.',\n",
       " '.2.32754.32758.33560.33719.',\n",
       " '.2.32754.32758.33560.33720.']"
      ]
     },
     "execution_count": 196,
     "metadata": {},
     "output_type": "execute_result"
    }
   ],
   "source": [
    "knowledge_ids = \",33719,16135,13796,33542,13908,32757,33717,13906,33720,33523,33560,16136,2,32754,33435,32758,16144,13801,13915\"\n",
    "get_knowledge_ids(knowledge_ids)"
   ]
  },
  {
   "cell_type": "markdown",
   "metadata": {},
   "source": [
    "['.2.32754.32758.33560.33720.',#分数四则混合运算   \n",
    " '.2.32754.32758.33560.33719.',#分数除以分数（无情景）   \n",
    " '.2.32754.32758.33560.33717.',#整数除以分数（无情景）   \n",
    " '.2.32754.32757.33435.33542.',#分数乘分数计算    \n",
    " '.2.32754.32757.33435.33523.',#分数乘整数计算    \n",
    " '.2.13796.13801.13908.13915.16144.',#一个数除以分数     \n",
    " '.2.13796.13801.13906.16136.',#分数乘分数    \n",
    " '.2.13796.13801.13906.16135.']#分数乘整数    \n",
    ".2.32754.32758.33560. 分数除法     \n",
    ".2.32754.32757.33435. 分数乘法     \n",
    ".2.13796.13801.13906. 分数乘法    \n",
    ".2.13796.13801.13908. 分数除法  "
   ]
  },
  {
   "cell_type": "code",
   "execution_count": 197,
   "metadata": {},
   "outputs": [
    {
     "data": {
      "text/plain": [
       "['.2.1173.3339.3344.3407.3418.']"
      ]
     },
     "execution_count": 197,
     "metadata": {},
     "output_type": "execute_result"
    }
   ],
   "source": [
    "knowledge_ids = \",1173,3344,2,3407,3339,3418\"\n",
    "get_knowledge_ids(knowledge_ids)\n",
    "#'.2.1173.3339.3344.3407.3418.'#分解质因数"
   ]
  },
  {
   "cell_type": "code",
   "execution_count": null,
   "metadata": {},
   "outputs": [],
   "source": []
  },
  {
   "cell_type": "code",
   "execution_count": null,
   "metadata": {},
   "outputs": [],
   "source": []
  },
  {
   "cell_type": "code",
   "execution_count": null,
   "metadata": {},
   "outputs": [],
   "source": []
  },
  {
   "cell_type": "code",
   "execution_count": null,
   "metadata": {},
   "outputs": [],
   "source": []
  }
 ],
 "metadata": {
  "kernelspec": {
   "display_name": "Python 3",
   "language": "python",
   "name": "python3"
  },
  "language_info": {
   "codemirror_mode": {
    "name": "ipython",
    "version": 3
   },
   "file_extension": ".py",
   "mimetype": "text/x-python",
   "name": "python",
   "nbconvert_exporter": "python",
   "pygments_lexer": "ipython3",
   "version": "3.7.4"
  }
 },
 "nbformat": 4,
 "nbformat_minor": 2
}
