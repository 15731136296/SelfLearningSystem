{
 "cells": [
  {
   "cell_type": "code",
   "execution_count": 190,
   "metadata": {},
   "outputs": [],
   "source": [
    "import pandas as pd"
   ]
  },
  {
   "cell_type": "code",
   "execution_count": 215,
   "metadata": {},
   "outputs": [],
   "source": [
    "def receive_json():\n",
    "    # 返回数据格式\n",
    "    receive_results = [\n",
    "        {\"location\": 1, \"test_id\": 200001, \"is_true\": 0, \"difficulty\": 0, \"time_consuming\": 40, \"user_answer\": \"\",\n",
    "         \"knowledge_ids\": 2020},\n",
    "        {\"location\": 2, \"test_id\": 200002, \"is_true\": 1, \"difficulty\": 0, \"time_consuming\": 2, \"user_answer\": \"\",\n",
    "         \"knowledge_ids\": 2020},\n",
    "        {\"location\": 3, \"test_id\": 200003, \"is_true\": 0, \"difficulty\": 0, \"time_consuming\": 3, \"user_answer\": \"\",\n",
    "         \"knowledge_ids\": 2021},\n",
    "        {\"location\": 4, \"test_id\": 200004, \"is_true\": 1, \"difficulty\": 0, \"time_consuming\": 9, \"user_answer\": \"\",\n",
    "         \"knowledge_ids\": 2021},\n",
    "        {\"location\": 5, \"test_id\": 200005, \"is_true\": 0, \"difficulty\": 0, \"time_consuming\": 4, \"user_answer\": \"\",\n",
    "         \"knowledge_ids\": 2022},\n",
    "        {\"location\": 6, \"test_id\": 200006, \"is_true\": 0, \"difficulty\": 0, \"time_consuming\": 2, \"user_answer\": \"\",\n",
    "         \"knowledge_ids\": 2022},\n",
    "        {\"location\": 7, \"test_id\": 200007, \"is_true\": 1, \"difficulty\": 0, \"time_consuming\": 3, \"user_answer\": \"\",\n",
    "         \"knowledge_ids\": 2023},\n",
    "        {\"location\": 8, \"test_id\": 200008, \"is_true\": 1, \"difficulty\": 0, \"time_consuming\": 19, \"user_answer\": \"\",\n",
    "         \"knowledge_ids\": 2023}\n",
    "    ]\n",
    "\n",
    "    receive_json = {\"status\": \"0\", \"message\": \"success\", \"data\": receive_results}\n",
    "\n",
    "    df_receive_results = pd.DataFrame(receive_json.get(\"data\"))\n",
    "    df_receive_results = df_receive_results.sort_values([\"location\"])\n",
    "\n",
    "    is_true_list = df_receive_results[\"is_true\"].to_list()\n",
    "    knowledge_ids_list = df_receive_results[\"knowledge_ids\"].to_list()\n",
    "\n",
    "    return df_receive_results\n",
    "\n"
   ]
  },
  {
   "cell_type": "code",
   "execution_count": 220,
   "metadata": {},
   "outputs": [],
   "source": [
    "def sorting_result(df_receive_results):\n",
    "    \n",
    "    \"\"\"\n",
    "    解析返回数据receive_json()\n",
    "    \"\"\"\n",
    "    knowledge_ids_list = df_receive_results[\"knowledge_ids\"].to_list()\n",
    "    knowledge_ids_list = list(set(knowledge_ids_list))\n",
    "    is_true_count= df_receive_results.groupby(\"knowledge_ids\")[\"is_true\"].sum().reset_index(name='count')\n",
    "    is_true_count = is_true_count.sort_values(\"count\")\n",
    "    x_false_knowledge_ids_list = is_true_count[is_true_count[\"count\"]<2][\"knowledge_ids\"].to_list()\n",
    "    true_knowledge_ids_list = is_true_count[is_true_count[\"count\"]==2][\"knowledge_ids\"].to_list()\n",
    "    true_knowledge_ids_df = df_receive_results[(df_receive_results[\"knowledge_ids\"].isin(true_knowledge_ids_list))]\n",
    "    time_threshold = 15 #初始化准备,加载学生信息。没有的话,设定一个值time_threshold = 60\n",
    "    y_true_knowledge_ids_list = true_knowledge_ids_df[true_knowledge_ids_df[\"time_consuming\"]>time_threshold][\"knowledge_ids\"].to_list()\n",
    "    z_true_knowledge_ids_list = list(set(knowledge_ids_list) - set(x_false_knowledge_ids_list) - set(y_true_knowledge_ids_list))\n",
    "    return [x_false_knowledge_ids_list,y_true_knowledge_ids_list,z_true_knowledge_ids_list]\n",
    "\n",
    "    \n",
    "    "
   ]
  },
  {
   "cell_type": "code",
   "execution_count": 227,
   "metadata": {},
   "outputs": [],
   "source": [
    "df_receive_results = receive_json()\n",
    "xyz_list = sorting_result(df_receive_results)\n",
    "x_false_knowledge_ids_list = xyz_list[0]\n",
    "y_true_knowledge_ids_list = xyz_list[1]\n",
    "z_true_knowledge_ids_list = xyz_list[2]\n",
    "x = len(x_false_knowledge_ids_list)\n",
    "y = len(y_true_knowledge_ids_list )\n",
    "z = len(z_true_knowledge_ids_list)\n",
    "print(x,y,z)"
   ]
  },
  {
   "cell_type": "code",
   "execution_count": null,
   "metadata": {},
   "outputs": [],
   "source": []
  },
  {
   "cell_type": "code",
   "execution_count": null,
   "metadata": {},
   "outputs": [],
   "source": []
  },
  {
   "cell_type": "code",
   "execution_count": null,
   "metadata": {},
   "outputs": [],
   "source": []
  },
  {
   "cell_type": "code",
   "execution_count": null,
   "metadata": {},
   "outputs": [],
   "source": []
  },
  {
   "cell_type": "code",
   "execution_count": null,
   "metadata": {},
   "outputs": [],
   "source": []
  },
  {
   "cell_type": "code",
   "execution_count": null,
   "metadata": {},
   "outputs": [],
   "source": []
  },
  {
   "cell_type": "code",
   "execution_count": null,
   "metadata": {},
   "outputs": [],
   "source": []
  },
  {
   "cell_type": "code",
   "execution_count": null,
   "metadata": {},
   "outputs": [],
   "source": []
  }
 ],
 "metadata": {
  "kernelspec": {
   "display_name": "Python 3",
   "language": "python",
   "name": "python3"
  },
  "language_info": {
   "codemirror_mode": {
    "name": "ipython",
    "version": 3
   },
   "file_extension": ".py",
   "mimetype": "text/x-python",
   "name": "python",
   "nbconvert_exporter": "python",
   "pygments_lexer": "ipython3",
   "version": "3.7.4"
  }
 },
 "nbformat": 4,
 "nbformat_minor": 2
}
